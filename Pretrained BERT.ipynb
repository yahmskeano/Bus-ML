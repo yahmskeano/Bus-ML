{
 "cells": [
  {
   "cell_type": "code",
   "execution_count": null,
   "id": "c71794cd",
   "metadata": {},
   "outputs": [],
   "source": [
    "import pandas as pd\n",
    "import numpy as np\n",
    "import tensorflow as tf"
   ]
  },
  {
   "cell_type": "code",
   "execution_count": null,
   "id": "2d7eacbe",
   "metadata": {},
   "outputs": [],
   "source": [
    "nola = pd.read_csv('/Users/jmesmelican/Downloads/yelp_dataset/NOLA Restaurants.csv')\n",
    "\n",
    "traindf = nola[nola['train']]\n",
    "testdf = nola[~nola['train']]"
   ]
  },
  {
   "cell_type": "code",
   "execution_count": null,
   "id": "1d4e319a",
   "metadata": {},
   "outputs": [],
   "source": [
    "from transformers import AutoTokenizer, TFAutoModelForSequenceClassification\n",
    "\n",
    "tokenizer = AutoTokenizer.from_pretrained(\"gilf/english-yelp-sentiment\")\n",
    "\n",
    "model = TFAutoModelForSequenceClassification.from_pretrained(\"gilf/english-yelp-sentiment\")"
   ]
  },
  {
   "cell_type": "code",
   "execution_count": null,
   "id": "abafa5ac",
   "metadata": {},
   "outputs": [],
   "source": [
    "splits = np.array_split(testdf['text'].replace(r'\\n', ' ', regex=True),1000)\n",
    "\n",
    "all_outputs = []\n",
    "\n",
    "for i in range(len(splits)):\n",
    "    print(i)\n",
    "    tf_batch = tokenizer(\n",
    "      list(splits[i]),\n",
    "      padding=True,\n",
    "      truncation=True,\n",
    "      max_length=512,\n",
    "      return_tensors=\"tf\",\n",
    "  )\n",
    "    tf_outputs = model(tf_batch)\n",
    "    all_outputs.append(tf_outputs.logits)\n",
    "  "
   ]
  },
  {
   "cell_type": "code",
   "execution_count": null,
   "id": "dcd0d028",
   "metadata": {},
   "outputs": [],
   "source": [
    "logits = tf.concat(all_outputs,0)"
   ]
  },
  {
   "cell_type": "code",
   "execution_count": null,
   "id": "dcaf2839",
   "metadata": {},
   "outputs": [],
   "source": [
    "tf_predictions = tf.nn.softmax(logits, axis=-1)"
   ]
  },
  {
   "cell_type": "code",
   "execution_count": null,
   "id": "ef762a77",
   "metadata": {},
   "outputs": [],
   "source": [
    "from tensorflow.python.ops.numpy_ops import np_config\n",
    "np_config.enable_numpy_behavior()\n",
    "preds = tf_predictions.tolist()"
   ]
  },
  {
   "cell_type": "code",
   "execution_count": null,
   "id": "27c73fba",
   "metadata": {},
   "outputs": [],
   "source": [
    "pred_classes = []\n",
    "\n",
    "for i in range(len(preds)):\n",
    "    pred_classes.append( preds[i].index(max(preds[i])) +1)"
   ]
  },
  {
   "cell_type": "code",
   "execution_count": null,
   "id": "e9153d93",
   "metadata": {},
   "outputs": [],
   "source": [
    "a = np.array(pred_classes)\n",
    "b = np.array(testdf['stars'])\n",
    "acc = np.mean(a-b == 0)"
   ]
  },
  {
   "cell_type": "code",
   "execution_count": null,
   "id": "c838d50a",
   "metadata": {},
   "outputs": [],
   "source": [
    "acc"
   ]
  },
  {
   "cell_type": "code",
   "execution_count": null,
   "id": "053d62f0",
   "metadata": {},
   "outputs": [],
   "source": [
    "mae = np.mean(abs(np.matmul(np.array(preds),np.array([1,2,3,4,5])) - b))"
   ]
  },
  {
   "cell_type": "code",
   "execution_count": null,
   "id": "8a0f0d12",
   "metadata": {},
   "outputs": [],
   "source": [
    "mae"
   ]
  }
 ],
 "metadata": {
  "kernelspec": {
   "display_name": "Python 3 (ipykernel)",
   "language": "python",
   "name": "python3"
  },
  "language_info": {
   "codemirror_mode": {
    "name": "ipython",
    "version": 3
   },
   "file_extension": ".py",
   "mimetype": "text/x-python",
   "name": "python",
   "nbconvert_exporter": "python",
   "pygments_lexer": "ipython3",
   "version": "3.9.7"
  }
 },
 "nbformat": 4,
 "nbformat_minor": 5
}

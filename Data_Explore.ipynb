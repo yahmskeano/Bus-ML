{
 "cells": [
  {
   "cell_type": "markdown",
   "metadata": {},
   "source": [
    "The data is huge and comes in a .tgz. We'll extract everything, then save off what we need."
   ]
  },
  {
   "cell_type": "code",
   "execution_count": 1,
   "metadata": {},
   "outputs": [],
   "source": [
    "import os, sys, tarfile"
   ]
  },
  {
   "cell_type": "code",
   "execution_count": 2,
   "metadata": {},
   "outputs": [],
   "source": [
    "###############################\n",
    "# https://www.yelp.com/dataset\n",
    "###############################\n",
    "# with tarfile.open('yelp_dataset.tgz', 'r:gz') as tar:\n",
    "#     tar.extractall()"
   ]
  },
  {
   "cell_type": "markdown",
   "metadata": {},
   "source": [
    "# Filtering Businesses\n",
    "\n",
    "Here we filter down to just restaurants. This misses some that just have \"food\" or whatever as a category, but oh well."
   ]
  },
  {
   "cell_type": "code",
   "execution_count": 3,
   "metadata": {},
   "outputs": [],
   "source": [
    "import pandas as pd\n",
    "\n",
    "businesses = pd.read_json('yelp_academic_dataset_business.json', lines=True)\n",
    "businesses['Is_Restaurant'] = businesses.categories.str.contains('Restaurant')"
   ]
  },
  {
   "cell_type": "code",
   "execution_count": 4,
   "metadata": {},
   "outputs": [
    {
     "data": {
      "text/html": [
       "<div>\n",
       "<style scoped>\n",
       "    .dataframe tbody tr th:only-of-type {\n",
       "        vertical-align: middle;\n",
       "    }\n",
       "\n",
       "    .dataframe tbody tr th {\n",
       "        vertical-align: top;\n",
       "    }\n",
       "\n",
       "    .dataframe thead th {\n",
       "        text-align: right;\n",
       "    }\n",
       "</style>\n",
       "<table border=\"1\" class=\"dataframe\">\n",
       "  <thead>\n",
       "    <tr style=\"text-align: right;\">\n",
       "      <th></th>\n",
       "      <th>review_count</th>\n",
       "      <th>stars</th>\n",
       "    </tr>\n",
       "    <tr>\n",
       "      <th>city</th>\n",
       "      <th></th>\n",
       "      <th></th>\n",
       "    </tr>\n",
       "  </thead>\n",
       "  <tbody>\n",
       "    <tr>\n",
       "      <th>Philadelphia</th>\n",
       "      <td>665749</td>\n",
       "      <td>3.556030</td>\n",
       "    </tr>\n",
       "    <tr>\n",
       "      <th>New Orleans</th>\n",
       "      <td>465988</td>\n",
       "      <td>3.744027</td>\n",
       "    </tr>\n",
       "    <tr>\n",
       "      <th>Nashville</th>\n",
       "      <td>318560</td>\n",
       "      <td>3.564323</td>\n",
       "    </tr>\n",
       "    <tr>\n",
       "      <th>Tampa</th>\n",
       "      <td>293130</td>\n",
       "      <td>3.603512</td>\n",
       "    </tr>\n",
       "    <tr>\n",
       "      <th>Indianapolis</th>\n",
       "      <td>242024</td>\n",
       "      <td>3.490566</td>\n",
       "    </tr>\n",
       "    <tr>\n",
       "      <th>Tucson</th>\n",
       "      <td>238902</td>\n",
       "      <td>3.462753</td>\n",
       "    </tr>\n",
       "    <tr>\n",
       "      <th>Reno</th>\n",
       "      <td>191056</td>\n",
       "      <td>3.576475</td>\n",
       "    </tr>\n",
       "    <tr>\n",
       "      <th>Saint Louis</th>\n",
       "      <td>171785</td>\n",
       "      <td>3.504746</td>\n",
       "    </tr>\n",
       "    <tr>\n",
       "      <th>Santa Barbara</th>\n",
       "      <td>158247</td>\n",
       "      <td>3.827901</td>\n",
       "    </tr>\n",
       "    <tr>\n",
       "      <th>Boise</th>\n",
       "      <td>64383</td>\n",
       "      <td>3.589517</td>\n",
       "    </tr>\n",
       "    <tr>\n",
       "      <th>Edmonton</th>\n",
       "      <td>61692</td>\n",
       "      <td>3.496537</td>\n",
       "    </tr>\n",
       "    <tr>\n",
       "      <th>Clearwater</th>\n",
       "      <td>54354</td>\n",
       "      <td>3.601032</td>\n",
       "    </tr>\n",
       "    <tr>\n",
       "      <th>Saint Petersburg</th>\n",
       "      <td>51018</td>\n",
       "      <td>3.614053</td>\n",
       "    </tr>\n",
       "    <tr>\n",
       "      <th>St. Louis</th>\n",
       "      <td>44399</td>\n",
       "      <td>3.662063</td>\n",
       "    </tr>\n",
       "    <tr>\n",
       "      <th>Metairie</th>\n",
       "      <td>40631</td>\n",
       "      <td>3.375479</td>\n",
       "    </tr>\n",
       "    <tr>\n",
       "      <th>Sparks</th>\n",
       "      <td>38205</td>\n",
       "      <td>3.407186</td>\n",
       "    </tr>\n",
       "    <tr>\n",
       "      <th>Franklin</th>\n",
       "      <td>36810</td>\n",
       "      <td>3.426802</td>\n",
       "    </tr>\n",
       "    <tr>\n",
       "      <th>St. Petersburg</th>\n",
       "      <td>34890</td>\n",
       "      <td>3.646040</td>\n",
       "    </tr>\n",
       "    <tr>\n",
       "      <th>Wilmington</th>\n",
       "      <td>30330</td>\n",
       "      <td>3.490323</td>\n",
       "    </tr>\n",
       "    <tr>\n",
       "      <th>Brandon</th>\n",
       "      <td>28942</td>\n",
       "      <td>3.455521</td>\n",
       "    </tr>\n",
       "    <tr>\n",
       "      <th>Carmel</th>\n",
       "      <td>26356</td>\n",
       "      <td>3.599656</td>\n",
       "    </tr>\n",
       "    <tr>\n",
       "      <th>Goleta</th>\n",
       "      <td>25721</td>\n",
       "      <td>3.556818</td>\n",
       "    </tr>\n",
       "    <tr>\n",
       "      <th>Cherry Hill</th>\n",
       "      <td>23935</td>\n",
       "      <td>3.409091</td>\n",
       "    </tr>\n",
       "    <tr>\n",
       "      <th>Meridian</th>\n",
       "      <td>23823</td>\n",
       "      <td>3.439103</td>\n",
       "    </tr>\n",
       "    <tr>\n",
       "      <th>St Louis</th>\n",
       "      <td>19162</td>\n",
       "      <td>3.654362</td>\n",
       "    </tr>\n",
       "    <tr>\n",
       "      <th>St Petersburg</th>\n",
       "      <td>17870</td>\n",
       "      <td>3.599174</td>\n",
       "    </tr>\n",
       "    <tr>\n",
       "      <th>Clearwater Beach</th>\n",
       "      <td>17305</td>\n",
       "      <td>3.603896</td>\n",
       "    </tr>\n",
       "    <tr>\n",
       "      <th>Dunedin</th>\n",
       "      <td>17102</td>\n",
       "      <td>3.816489</td>\n",
       "    </tr>\n",
       "    <tr>\n",
       "      <th>Largo</th>\n",
       "      <td>16463</td>\n",
       "      <td>3.519355</td>\n",
       "    </tr>\n",
       "    <tr>\n",
       "      <th>King of Prussia</th>\n",
       "      <td>16182</td>\n",
       "      <td>3.303922</td>\n",
       "    </tr>\n",
       "  </tbody>\n",
       "</table>\n",
       "</div>"
      ],
      "text/plain": [
       "                  review_count     stars\n",
       "city                                    \n",
       "Philadelphia            665749  3.556030\n",
       "New Orleans             465988  3.744027\n",
       "Nashville               318560  3.564323\n",
       "Tampa                   293130  3.603512\n",
       "Indianapolis            242024  3.490566\n",
       "Tucson                  238902  3.462753\n",
       "Reno                    191056  3.576475\n",
       "Saint Louis             171785  3.504746\n",
       "Santa Barbara           158247  3.827901\n",
       "Boise                    64383  3.589517\n",
       "Edmonton                 61692  3.496537\n",
       "Clearwater               54354  3.601032\n",
       "Saint Petersburg         51018  3.614053\n",
       "St. Louis                44399  3.662063\n",
       "Metairie                 40631  3.375479\n",
       "Sparks                   38205  3.407186\n",
       "Franklin                 36810  3.426802\n",
       "St. Petersburg           34890  3.646040\n",
       "Wilmington               30330  3.490323\n",
       "Brandon                  28942  3.455521\n",
       "Carmel                   26356  3.599656\n",
       "Goleta                   25721  3.556818\n",
       "Cherry Hill              23935  3.409091\n",
       "Meridian                 23823  3.439103\n",
       "St Louis                 19162  3.654362\n",
       "St Petersburg            17870  3.599174\n",
       "Clearwater Beach         17305  3.603896\n",
       "Dunedin                  17102  3.816489\n",
       "Largo                    16463  3.519355\n",
       "King of Prussia          16182  3.303922"
      ]
     },
     "execution_count": 4,
     "metadata": {},
     "output_type": "execute_result"
    }
   ],
   "source": [
    "businesses = businesses[businesses['Is_Restaurant'] == True]\n",
    "businesses.groupby('city').agg({'review_count' : 'sum', 'stars': 'mean'}).sort_values(by='review_count', ascending=False).head(30)\n"
   ]
  },
  {
   "cell_type": "markdown",
   "metadata": {},
   "source": [
    "Let's just look at NOLA for now."
   ]
  },
  {
   "cell_type": "code",
   "execution_count": 5,
   "metadata": {},
   "outputs": [],
   "source": [
    "businesses = businesses[businesses['city'] == 'New Orleans']"
   ]
  },
  {
   "cell_type": "markdown",
   "metadata": {},
   "source": [
    "# Creating review files\n",
    "We load in the reviews in chunks to avoid memory-related crashes."
   ]
  },
  {
   "cell_type": "code",
   "execution_count": 6,
   "metadata": {},
   "outputs": [],
   "source": [
    "import numpy as np\n",
    "reviews = []\n",
    "\n",
    "with open(\"yelp_academic_dataset_review.json\", \"r\") as f:\n",
    "    reader = pd.read_json(f, orient=\"records\", lines=True, chunksize=1000)\n",
    "        \n",
    "    for chunk in reader:\n",
    "        is_rest_review = chunk.business_id.isin(businesses.business_id)\n",
    "        reduced_chunk = chunk[is_rest_review]\n",
    "        reviews.append(reduced_chunk)\n",
    "    \n",
    "reviews = pd.concat(reviews, ignore_index=True)"
   ]
  },
  {
   "cell_type": "markdown",
   "metadata": {},
   "source": [
    "We'll have to find some cutoff to determine usefulness, as most reviews seem to be not useful."
   ]
  },
  {
   "cell_type": "code",
   "execution_count": 7,
   "metadata": {},
   "outputs": [
    {
     "data": {
      "text/plain": [
       "0     0.626405\n",
       "1     0.198433\n",
       "2     0.078969\n",
       "3     0.037533\n",
       "4     0.019317\n",
       "5     0.011301\n",
       "6     0.006996\n",
       "7     0.004750\n",
       "8     0.003488\n",
       "9     0.002582\n",
       "10    0.001939\n",
       "11    0.001396\n",
       "12    0.001226\n",
       "13    0.000879\n",
       "14    0.000777\n",
       "15    0.000642\n",
       "16    0.000504\n",
       "17    0.000420\n",
       "18    0.000353\n",
       "19    0.000300\n",
       "Name: useful, dtype: float64"
      ]
     },
     "execution_count": 7,
     "metadata": {},
     "output_type": "execute_result"
    }
   ],
   "source": [
    "reviews['useful'].value_counts().head(20) / reviews.shape[0]"
   ]
  },
  {
   "cell_type": "markdown",
   "metadata": {},
   "source": [
    "# Tokenizing reviews\n",
    "\n",
    "Here we create a function to tokenize the sentences, and remove non-alpha characters and newline calls."
   ]
  },
  {
   "cell_type": "code",
   "execution_count": 8,
   "metadata": {},
   "outputs": [
    {
     "name": "stderr",
     "output_type": "stream",
     "text": [
      "[nltk_data] Downloading package stopwords to\n",
      "[nltk_data]     C:\\Users\\yahms\\AppData\\Roaming\\nltk_data...\n",
      "[nltk_data]   Package stopwords is already up-to-date!\n"
     ]
    }
   ],
   "source": [
    "import re\n",
    "import string\n",
    "from tqdm import trange\n",
    "from nltk.corpus import stopwords\n",
    "import nltk\n",
    "\n",
    "nltk.download('stopwords')\n",
    "STOPWORDS = set(stopwords.words('english'))\n",
    "\n",
    "def clean_and_split(s):\n",
    "    # string.punctuation is a string with all the different punctuation symbols.\n",
    "    # # ’tr’ is an object that will assign blank space to each punctuation symbol.\n",
    "    tr=str.maketrans(string.punctuation,\" \"*len(string.punctuation))\n",
    "    s=s.lower().translate(tr)\n",
    "    # replace \\r\\n\n",
    "    s = re.sub('(\\r\\n)+',' ',s)\n",
    "    s = re.sub('(\\\\n)+',' ',s)\n",
    "    # replace \\x95\n",
    "    s = re.sub('[\\x95\\x97\\u0097]',' ',s)\n",
    "    s = re.sub('\\s\\d+', ' ', s)\n",
    "    # replace whitespace substrings with one whitespace and remove leading/trailing whitespaces\n",
    "    s = re.sub(' +',' ',s.strip())\n",
    "    s=s.split(' ')\n",
    "    # replace \n",
    "    \n",
    "    return s\n"
   ]
  },
  {
   "cell_type": "markdown",
   "metadata": {},
   "source": [
    "We both tokenize the sentences, and eliminate common stop words to get a sense of the significant vocabulary at large here."
   ]
  },
  {
   "cell_type": "code",
   "execution_count": 9,
   "metadata": {},
   "outputs": [
    {
     "name": "stderr",
     "output_type": "stream",
     "text": [
      "100%|██████████| 476428/476428 [00:44<00:00, 10677.69it/s]\n"
     ]
    }
   ],
   "source": [
    "reduced_text = []\n",
    "word_cnt = []\n",
    "\n",
    "for j in trange(reviews.shape[0]):\n",
    "    words = clean_and_split(reviews['text'][j])\n",
    "    word_cnt.append(len(words))\n",
    "    \n",
    "    words_red = [x for x in words if not x in STOPWORDS]\n",
    "    reduced_text.append(words_red)\n",
    "\n",
    "word_cnt = np.array(word_cnt)"
   ]
  },
  {
   "cell_type": "markdown",
   "metadata": {},
   "source": [
    "There are many short reviews -- I've shortened the review search to just 200-300 word count reviews."
   ]
  },
  {
   "cell_type": "code",
   "execution_count": 10,
   "metadata": {},
   "outputs": [
    {
     "name": "stdout",
     "output_type": "stream",
     "text": [
      "32599\n"
     ]
    },
    {
     "data": {
      "image/png": "[encoded data removed]",
      "text/plain": [
       "<Figure size 432x288 with 1 Axes>"
      ]
     },
     "metadata": {
      "needs_background": "light"
     },
     "output_type": "display_data"
    }
   ],
   "source": [
    "import seaborn as sns\n",
    "sns.histplot(word_cnt)\n",
    "print(np.sum((word_cnt > 200) & (word_cnt < 300)))"
   ]
  },
  {
   "cell_type": "code",
   "execution_count": null,
   "metadata": {},
   "outputs": [],
   "source": [
    "ix_large_reviews = (word_cnt >= 200) & (word_cnt <=300)\n",
    "reviews['reduced_text'] = reduced_text\n",
    "reduced_reviews = reviews.iloc[ix_large_reviews].reset_index()"
   ]
  },
  {
   "cell_type": "markdown",
   "metadata": {},
   "source": [
    "The next steps concatenate all cleaned reviews into one large corpus, and finds the frequencies of all words in said corpus. Notably, it only takes the 9 words for us to see that we are indeed looking at NOLA reviews."
   ]
  },
  {
   "cell_type": "code",
   "execution_count": 12,
   "metadata": {},
   "outputs": [
    {
     "name": "stderr",
     "output_type": "stream",
     "text": [
      "100%|██████████| 33336/33336 [00:11<00:00, 2890.49it/s] \n"
     ]
    }
   ],
   "source": [
    "corpus = reduced_reviews['reduced_text'][len(reduced_reviews)-1]\n",
    "for j in trange(reduced_reviews.shape[0]-1):\n",
    "    corpus[0:0] = reduced_text[j]"
   ]
  },
  {
   "cell_type": "code",
   "execution_count": 13,
   "metadata": {},
   "outputs": [
    {
     "data": {
      "text/plain": [
       "1581590"
      ]
     },
     "execution_count": 13,
     "metadata": {},
     "output_type": "execute_result"
    }
   ],
   "source": [
    "len(corpus)"
   ]
  },
  {
   "cell_type": "code",
   "execution_count": 14,
   "metadata": {},
   "outputs": [
    {
     "data": {
      "text/plain": [
       "FreqDist({'food': 21510, 'good': 18880, 'great': 16429, 'place': 15748, 'service': 12094, 'like': 8877, 'one': 8815, 'back': 8568, 'shrimp': 8453, 'time': 8146, ...})"
      ]
     },
     "execution_count": 14,
     "metadata": {},
     "output_type": "execute_result"
    }
   ],
   "source": [
    "v = nltk.FreqDist(corpus); v"
   ]
  },
  {
   "cell_type": "code",
   "execution_count": 15,
   "metadata": {},
   "outputs": [],
   "source": [
    "words = set(v)\n",
    "vocab = [word for word in words if not v[word] < 50]"
   ]
  },
  {
   "cell_type": "code",
   "execution_count": 16,
   "metadata": {},
   "outputs": [
    {
     "data": {
      "text/plain": [
       "3112"
      ]
     },
     "execution_count": 16,
     "metadata": {},
     "output_type": "execute_result"
    }
   ],
   "source": [
    "len(vocab)"
   ]
  },
  {
   "cell_type": "markdown",
   "metadata": {},
   "source": [
    "Now we re-tokenize on the preprocessed data, filling in any words outside of the top 3000 with \"<OOV>\". For a real model we should probably keep stop words."
   ]
  },
  {
   "cell_type": "code",
   "execution_count": 17,
   "metadata": {},
   "outputs": [],
   "source": [
    "from keras.preprocessing.text import Tokenizer\n",
    "from keras.preprocessing.sequence import pad_sequences\n",
    "\n",
    "tokenizer = Tokenizer(num_words = 3000, oov_token = '<OOV>', split='')\n",
    "tokenizer.fit_on_texts(reduced_reviews['reduced_text'].values)"
   ]
  },
  {
   "cell_type": "code",
   "execution_count": 18,
   "metadata": {},
   "outputs": [],
   "source": [
    "X = tokenizer.texts_to_sequences(reduced_reviews['reduced_text'].iloc[:33336].values)\n",
    "X = pad_sequences(X)"
   ]
  },
  {
   "cell_type": "markdown",
   "metadata": {},
   "source": [
    "And we build a simple LSTM model"
   ]
  },
  {
   "cell_type": "code",
   "execution_count": 36,
   "metadata": {},
   "outputs": [
    {
     "name": "stdout",
     "output_type": "stream",
     "text": [
      "Model: \"sequential_2\"\n",
      "_________________________________________________________________\n",
      " Layer (type)                Output Shape              Param #   \n",
      "=================================================================\n",
      " embedding_2 (Embedding)     (None, 260, 128)          384000    \n",
      "                                                                 \n",
      " dropout_2 (Dropout)         (None, 260, 128)          0         \n",
      "                                                                 \n",
      " lstm_2 (LSTM)               (None, 196)               254800    \n",
      "                                                                 \n",
      " dense_1 (Dense)             (None, 5)                 985       \n",
      "                                                                 \n",
      "=================================================================\n",
      "Total params: 639,785\n",
      "Trainable params: 639,785\n",
      "Non-trainable params: 0\n",
      "_________________________________________________________________\n",
      "None\n"
     ]
    }
   ],
   "source": [
    "from keras.models import Sequential\n",
    "from keras.layers import Dense, Embedding, LSTM, Dropout\n",
    "from sklearn.model_selection import train_test_split\n",
    "from keras.utils.np_utils import to_categorical\n",
    "\n",
    "embed_dim = 128\n",
    "lstm_out = 196\n",
    "batch_size = 32\n",
    "\n",
    "model = Sequential()\n",
    "model.add(Embedding(3000, embed_dim,input_length = X.shape[1]))\n",
    "model.add(Dropout(0.2))\n",
    "model.add(LSTM(lstm_out, dropout = 0.2))\n",
    "model.add(Dense(5,activation='softmax'))\n",
    "model.compile(loss = 'categorical_crossentropy', optimizer='adam',metrics = ['accuracy'])\n",
    "print(model.summary())"
   ]
  },
  {
   "cell_type": "code",
   "execution_count": 37,
   "metadata": {},
   "outputs": [
    {
     "name": "stdout",
     "output_type": "stream",
     "text": [
      "(25002, 260) (25002, 5)\n",
      "(8334, 260) (8334, 5)\n"
     ]
    }
   ],
   "source": [
    "Y = pd.get_dummies(reduced_reviews['stars'][:33336]).values\n",
    "X_train, X_test, Y_train, Y_test = train_test_split(X,Y, test_size = 0.25, random_state = 414)\n",
    "print(X_train.shape,Y_train.shape)\n",
    "print(X_test.shape,Y_test.shape)\n"
   ]
  },
  {
   "cell_type": "code",
   "execution_count": 39,
   "metadata": {},
   "outputs": [
    {
     "name": "stdout",
     "output_type": "stream",
     "text": [
      "782/782 - 18s - loss: 0.9516 - accuracy: 0.5785 - 18s/epoch - 23ms/step\n",
      "261/261 - 4s - loss: 0.9780 - accuracy: 0.5644 - 4s/epoch - 14ms/step\n",
      "Score: 0.98\n",
      "Validation Accuracy: 0.56\n"
     ]
    }
   ],
   "source": [
    "model.fit(X_train, Y_train, batch_size = batch_size, verbose = 2)\n",
    "\n",
    "\n",
    "score,acc = model.evaluate(X_test, Y_test, verbose = 2, batch_size = batch_size)\n",
    "print(\"Score: %.2f\" % (score))\n",
    "print(\"Validation Accuracy: %.2f\" % (acc))\n",
    "\n",
    "\n"
   ]
  },
  {
   "cell_type": "code",
   "execution_count": 41,
   "metadata": {},
   "outputs": [
    {
     "data": {
      "text/plain": [
       "0.9779956936836243"
      ]
     },
     "execution_count": 41,
     "metadata": {},
     "output_type": "execute_result"
    }
   ],
   "source": []
  }
 ],
 "metadata": {
  "interpreter": {
   "hash": "e513d52c5fd5c2da7a1334c4333a1a8f76161017b88a4c919bc97e004fc334b5"
  },
  "kernelspec": {
   "display_name": "Python 3.8.10 64-bit ('jmkpy': conda)",
   "language": "python",
   "name": "python3"
  },
  "language_info": {
   "codemirror_mode": {
    "name": "ipython",
    "version": 3
   },
   "file_extension": ".py",
   "mimetype": "text/x-python",
   "name": "python",
   "nbconvert_exporter": "python",
   "pygments_lexer": "ipython3",
   "version": "3.9.7"
  },
  "orig_nbformat": 4
 },
 "nbformat": 4,
 "nbformat_minor": 2
}
